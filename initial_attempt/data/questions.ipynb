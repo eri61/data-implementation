{
 "cells": [
  {
   "cell_type": "markdown",
   "metadata": {},
   "source": [
    "### 第1回　dataコース実装会問題集\n",
    "参考：(実装会終了後に公開)"
   ]
  },
  {
   "cell_type": "markdown",
   "metadata": {},
   "source": [
    "#### 統計量の計算"
   ]
  },
  {
   "cell_type": "markdown",
   "metadata": {},
   "source": [
    "##### 基本統計量"
   ]
  },
  {
   "cell_type": "code",
   "execution_count": null,
   "metadata": {
    "vscode": {
     "languageId": "plaintext"
    }
   },
   "outputs": [],
   "source": [
    "# dfのAMT_INCOME_TOTAL列の平均、中央値、合計、最大値、最小値、最頻値をそれぞれ出力\n",
    "df = initialize(0)      # 初期化"
   ]
  },
  {
   "cell_type": "markdown",
   "metadata": {},
   "source": [
    "##### 列内の最大値、最小値のデータポイント取得"
   ]
  },
  {
   "cell_type": "code",
   "execution_count": null,
   "metadata": {
    "vscode": {
     "languageId": "plaintext"
    }
   },
   "outputs": [],
   "source": [
    "# dfのAMT_INCOME_TOTAL列の最大値、最小値の行名(index番号)を出力\n",
    "df = initialize(0)      # 初期化"
   ]
  },
  {
   "cell_type": "markdown",
   "metadata": {},
   "source": [
    "##### 要約統計量"
   ]
  },
  {
   "cell_type": "code",
   "execution_count": null,
   "metadata": {
    "vscode": {
     "languageId": "plaintext"
    }
   },
   "outputs": [],
   "source": [
    "# dfのAMT_INCOME_TOTAL列の平均値、分散を出力\n",
    "df = initialize(0)      # 初期化"
   ]
  },
  {
   "cell_type": "markdown",
   "metadata": {},
   "source": [
    "##### 相関係数"
   ]
  },
  {
   "cell_type": "code",
   "execution_count": null,
   "metadata": {
    "vscode": {
     "languageId": "plaintext"
    }
   },
   "outputs": [],
   "source": [
    "# dfの各列間の(Pearson)相関係数を確認\n",
    "df = initialize(0)      # 初期化"
   ]
  },
  {
   "cell_type": "markdown",
   "metadata": {},
   "source": [
    "##### 分位点"
   ]
  },
  {
   "cell_type": "code",
   "execution_count": null,
   "metadata": {
    "vscode": {
     "languageId": "plaintext"
    }
   },
   "outputs": [],
   "source": [
    "# dfのAMT_INCOME_TOTAL列の0、25、50、75、100パーセンタイルを取得\n",
    "df = initialize(0)      # 初期化"
   ]
  },
  {
   "cell_type": "markdown",
   "metadata": {},
   "source": [
    "### groupby"
   ]
  },
  {
   "cell_type": "code",
   "execution_count": null,
   "metadata": {
    "vscode": {
     "languageId": "plaintext"
    }
   },
   "outputs": [],
   "source": [
    "# dfのCODE_GENDERでグルーピングして、それぞれのAMT_INCOME_TOTALの最大値を出力\n",
    "df = initialize(0)      # 初期化"
   ]
  },
  {
   "cell_type": "code",
   "execution_count": null,
   "metadata": {
    "vscode": {
     "languageId": "plaintext"
    }
   },
   "outputs": [],
   "source": [
    "# dfのCODE_GENDERでグルーピング\n",
    "# さらにCODE_GENDER毎にNAME_CONTRACT_TYPEでグルーピング\n",
    "# 各グループ内の平均と分散を出力\n",
    "# さらに出力を見やすくするためにindexをリセットする\n",
    "df = initialize(0)      # 初期化"
   ]
  },
  {
   "cell_type": "markdown",
   "metadata": {},
   "source": [
    "##### pivot_table"
   ]
  },
  {
   "cell_type": "code",
   "execution_count": null,
   "metadata": {
    "vscode": {
     "languageId": "plaintext"
    }
   },
   "outputs": [],
   "source": [
    "# indexをCODE_GENDER、columnsをNAME_CONTRACT_TYPEとし、AMT_INCOME_TOTALの平均を集計したpivot tableを作成\n",
    "# 平均にはnp.meanを使用する\n",
    "df = initialize(0)      # 初期化\n",
    "import numpy as np"
   ]
  },
  {
   "cell_type": "markdown",
   "metadata": {},
   "source": []
  }
 ],
 "metadata": {
  "language_info": {
   "name": "python"
  },
  "orig_nbformat": 4
 },
 "nbformat": 4,
 "nbformat_minor": 2
}
